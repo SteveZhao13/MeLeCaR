{
 "cells": [
  {
   "cell_type": "markdown",
   "metadata": {},
   "source": [
    "# Meta Learning Cache Replacement Policy"
   ]
  },
  {
   "cell_type": "markdown",
   "metadata": {},
   "source": [
    "## Decompress tar.gz\n",
    "\n",
    "**Don't run unless you have a lot of storage!**"
   ]
  },
  {
   "cell_type": "code",
   "execution_count": null,
   "metadata": {},
   "outputs": [],
   "source": [
    "import argparse\n",
    "import os\n",
    "\n",
    "\n",
    "EXTENSION = '.tar.gz'\n",
    "BLKPARSE = '.blkparse'\n",
    "\n",
    "\n",
    "def main(input_dir, output_dir):\n",
    "  assert os.path.isdir(input_dir), \"The input directory {} does not exist\".format(input_dir)\n",
    "\n",
    "  input_dir = input_dir.rstrip(\"/\")\n",
    "  if not os.path.isdir(output_dir):\n",
    "    print(\"Creating output directory {}\".format(output_dir))\n",
    "    os.mkdir(output_dir)\n",
    "\n",
    "  for file in os.listdir(input_dir):\n",
    "    if not file.endswith(EXTENSION):\n",
    "      continue\n",
    "    \n",
    "    print(\"Extracting and moving {}\".format(file))\n",
    "    execute_command(\"tar -xvzf {}\".format(input_dir + '/' + file))\n",
    "    execute_command(\"mv ./*{} {}\".format(BLKPARSE, output_dir))\n",
    "    \n",
    "\n",
    "def execute_command(command):\n",
    "  os.system(command)\n",
    "\n"
   ]
  },
  {
   "cell_type": "code",
   "execution_count": null,
   "metadata": {},
   "outputs": [],
   "source": [
    "input_dir = \"FIU_raw\"\n",
    "output_dir = \"FIU_trace\"\n",
    "main(input_dir, output_dir)"
   ]
  },
  {
   "cell_type": "markdown",
   "metadata": {},
   "source": [
    "## Install Dependency"
   ]
  },
  {
   "cell_type": "code",
   "execution_count": 122,
   "metadata": {},
   "outputs": [],
   "source": [
    "import sys\n",
    "import random\n",
    "import numpy as np\n",
    "import pandas as pd\n",
    "from tqdm import tqdm_notebook as tqdm \n",
    "from collections import Counter, deque, defaultdict\n",
    "from sklearn import preprocessing\n",
    "from sklearn.preprocessing import normalize\n",
    "from sklearn.neighbors import KNeighborsClassifier\n",
    "from sklearn.model_selection import train_test_split\n",
    "from sklearn.linear_model import LogisticRegression\n",
    "from sklearn.metrics import accuracy_score, confusion_matrix\n",
    "from sklearn.neural_network import MLPClassifier\n",
    "import tensorflow as tf\n",
    "import pickle\n"
   ]
  },
  {
   "cell_type": "markdown",
   "metadata": {},
   "source": [
    "## Block Cache Model"
   ]
  },
  {
   "cell_type": "markdown",
   "metadata": {},
   "source": [
    "### Global Variable"
   ]
  },
  {
   "cell_type": "code",
   "execution_count": 123,
   "metadata": {},
   "outputs": [],
   "source": [
    "# Maximum block number\n",
    "maxpos = 1000000000000\n",
    "\n",
    "# Number of features (Recency, Frequency, Block No.)\n",
    "num_params = 3\n",
    "\n",
    "# Cache Size\n",
    "cache_size = 10\n",
    "\n",
    "# Sequence Length\n",
    "sequence_length = 5\n",
    "\n",
    "# Storage\n",
    "sequence_data = np.zeros((sequence_length, cache_size, num_params))\n",
    "\n",
    "# How often to store the data (Removed currently)\n",
    "sampling_freq = cache_size\n",
    "\n",
    "# How many % of cache to use\n",
    "eviction = int(0.7 * cache_size)  \n",
    "\n",
    "# Results\n",
    "lruCorrect = 0\n",
    "lruIncorrect = 0\n",
    "\n",
    "lfuCorrect = 0\n",
    "lfuIncorrect = 0\n",
    "\n",
    "# Variables\n",
    "X = np.array([], dtype=np.int64).reshape(0,num_params)\n",
    "Y = np.array([], dtype=np.int64).reshape(0,1)"
   ]
  },
  {
   "cell_type": "markdown",
   "metadata": {},
   "source": [
    "### Load workload\n",
    "**cheetah.cs.fiu.edu-110108-113008.1.blkparse** does not contain correct data."
   ]
  },
  {
   "cell_type": "code",
   "execution_count": 124,
   "metadata": {},
   "outputs": [
    {
     "data": {
      "text/plain": [
       "486357"
      ]
     },
     "execution_count": 124,
     "metadata": {},
     "output_type": "execute_result"
    }
   ],
   "source": [
    "# train = \"FIU_trace/cheetah.cs.fiu.edu-110108-113008.2.blkparse\"\n",
    "train = \"FIU_trace/casa-110108-112108.1.blkparse\"\n",
    "\n",
    "df = pd.read_csv(train, sep=' ',header = None)\n",
    "df.columns = ['timestamp','pid','pname','blockNo', \\\n",
    "              'blockSize', 'readOrWrite', 'bdMajor', 'bdMinor', 'hash']\n",
    "\n",
    "trainBlockTrace = df['blockNo'].tolist()\n",
    "trainBlockTrace = trainBlockTrace[:int(len(trainBlockTrace)*0.5)]\n",
    "# trainBlockTrace = trainBlockTrace[:300]\n",
    "len(trainBlockTrace)"
   ]
  },
  {
   "cell_type": "markdown",
   "metadata": {},
   "source": [
    "### Data Preprocessing and Data Construction"
   ]
  },
  {
   "cell_type": "code",
   "execution_count": 125,
   "metadata": {},
   "outputs": [],
   "source": [
    "# Taken from Shehbaz\n",
    "def get_recency(lru, cache):\n",
    "    recency = []\n",
    "    recency_dict = defaultdict(int)\n",
    "    \n",
    "    # Compute the recency order of each page in cache\n",
    "    for time in range(len(lru)):\n",
    "        recency_dict[lru[time]] = time + 1\n",
    "        \n",
    "    for block in cache:\n",
    "        recency.append(recency_dict[block])\n",
    "\n",
    "    return recency\n",
    "\n",
    "def get_frequency(lfu, cache):\n",
    "    frequency = []\n",
    "    \n",
    "    for block in cache:\n",
    "        frequency.append(lfu[block])\n",
    "    return frequency\n",
    "\n",
    "def normalize_columns(input):\n",
    "    return normalize(input, axis=0)"
   ]
  },
  {
   "cell_type": "code",
   "execution_count": 126,
   "metadata": {},
   "outputs": [],
   "source": [
    "def get_single_length_input(lfu, lru, cache, preprocess_func, cache_size):\n",
    "    input_recency = get_recency(lru, cache)\n",
    "    input_frequency = get_frequency(lfu, cache)\n",
    "    input_block_num = cache[:]\n",
    "    \n",
    "    if len(input_recency) < cache_size:\n",
    "        for i in range(0, cache_size - len(input_recency)):\n",
    "            input_recency.append(0)\n",
    "            input_frequency.append(0)\n",
    "            input_block_num.append(0)\n",
    "    \n",
    "    # Columns: recency, frequency, block number\n",
    "    # Row: cache location\n",
    "    raw_input = np.column_stack((input_recency, input_frequency, input_block_num))\n",
    "    \n",
    "    return preprocess_func(raw_input)\n",
    "\n",
    "\n",
    "SEQ_DIM = 0\n",
    "def get_multiple_length_input(sequence_length, prev_inputs, lfu, lru, cache, preprocess_func, cache_size):\n",
    "    assert prev_inputs.shape[SEQ_DIM] == sequence_length\n",
    "    current_input = get_single_length_input(lfu, lru, cache, preprocess_func, cache_size)\n",
    "    return np.vstack((prev_inputs[1:], current_input[None]))\n",
    "    \n",
    "\n",
    "def get_outputs(cache, delete):\n",
    "    assert(len(cache) == len(delete))\n",
    "    Y_current = []\n",
    "    KV_sorted = Counter(delete)\n",
    "    evict_dict = dict(KV_sorted.most_common(eviction))\n",
    "    assert(len(evict_dict) == eviction)\n",
    "    all_vals = evict_dict.values()\n",
    "    for e in cache:\n",
    "        if e in evict_dict.values():\n",
    "            Y_current.append(1)\n",
    "        else:\n",
    "            Y_current.append(0)\n",
    "\n",
    "    assert(Y_current.count(1) == eviction)\n",
    "    assert((set(all_vals)).issubset(set(cache)))\n",
    "    return Y_current\n",
    "\n",
    "\n",
    "def store_pair(request_time, seq_len, seq_data, lfu, lru, cache, deleted, cache_size, preprocess_func):\n",
    "    global X,Y,Z\n",
    "    cache = list(cache)\n",
    "    Y_current = get_outputs(cache, deleted)\n",
    "    \n",
    "    Y = np.vstack((Y, np.array(Y_current)[None]))\n",
    "    X = np.vstack((X, seq_data[None]))\n",
    "    Z = np.vstack((Z, request_time))\n",
    "\n",
    "    assert(Y_current.count(1) == eviction)\n",
    "    return Y_current"
   ]
  },
  {
   "cell_type": "markdown",
   "metadata": {},
   "source": [
    "### Belady Optimal Algorithm (From Shehbaz)"
   ]
  },
  {
   "cell_type": "code",
   "execution_count": 127,
   "metadata": {},
   "outputs": [],
   "source": [
    "def belady_opt(blocktrace, frame):\n",
    "    global maxpos, sequence_data, sequence_length\n",
    "    \n",
    "    optimal = defaultdict(deque)\n",
    "    deleted = defaultdict(int)\n",
    "    lfu = defaultdict(int)\n",
    "    lru = []\n",
    "\n",
    "    # Build the whole index for finding optimal eviction ordering\n",
    "    for request_time, block in enumerate(tqdm(blocktrace, desc=\"OPT: building index\")):\n",
    "        optimal[block].append(request_time)\n",
    "\n",
    "    hit, miss = 0, 0\n",
    "\n",
    "    cache = []\n",
    "    \n",
    "    for request_time, block in enumerate(tqdm(blocktrace, desc=\"OPT\")):\n",
    "        old_seq = sequence_data[:]\n",
    "        # increase frequency count\n",
    "        lfu[block] +=1\n",
    "\n",
    "        # Remove the block i at time step j from the index\n",
    "        if len(optimal[block]) is not 0 and optimal[block][0] == request_time:\n",
    "            optimal[block].popleft()\n",
    "\n",
    "        \n",
    "        if block in cache:\n",
    "            # Cache Hit\n",
    "            # Update block to MRU position\n",
    "            hit += 1\n",
    "            lru.remove(block)\n",
    "            lru.append(block)\n",
    "            \n",
    "            assert request_time in deleted\n",
    "            \n",
    "            del deleted[request_time]\n",
    "            if len(optimal[block]) is not 0:\n",
    "                deleted[optimal[block][0]] = block\n",
    "                optimal[block].popleft()\n",
    "            else:\n",
    "                deleted[maxpos] = block\n",
    "                maxpos -= 1\n",
    "            sequence_data = get_multiple_length_input(sequence_length, sequence_data, lfu, lru, cache, lambda x: x, cache_size)\n",
    "        else:\n",
    "            # Cache Miss\n",
    "            miss += 1\n",
    "            if len(cache) == frame:\n",
    "                # Cache is full\n",
    "                assert(len(deleted) == frame)\n",
    "                evictpos = max(deleted)\n",
    "                \n",
    "                #if (seq_number % sampling_freq +1 == sampling_freq):\n",
    "                y_opt = store_pair(request_time, sequence_length, sequence_data, lfu, lru, cache, deleted, cache_size, lambda x: x)\n",
    "    \n",
    "                cache[cache.index(deleted[evictpos])] = block\n",
    "                lru.remove(deleted[evictpos])\n",
    "                del deleted[evictpos]\n",
    "            else:\n",
    "                # Cache isn't full\n",
    "                cache.append(block)                \n",
    "            \n",
    "            # Add the candidate victim page to the j'th time step\n",
    "            if len(optimal[block]) is not 0:\n",
    "                deleted[optimal[block][0]] = block\n",
    "                optimal[block].popleft()\n",
    "            else:\n",
    "                deleted[maxpos] = block\n",
    "                maxpos -= 1\n",
    "            lru.append(block)\n",
    "            sequence_data = get_multiple_length_input(sequence_length, sequence_data, lfu, lru, cache, lambda x: x, cache_size)\n",
    "\n",
    "\n",
    "    hitrate = hit / (hit + miss)\n",
    "\n",
    "    return hitrate"
   ]
  },
  {
   "cell_type": "markdown",
   "metadata": {},
   "source": [
    "## Generate training data"
   ]
  },
  {
   "cell_type": "code",
   "execution_count": null,
   "metadata": {},
   "outputs": [
    {
     "data": {
      "application/vnd.jupyter.widget-view+json": {
       "model_id": "89c0c0105ea2414689c21a341a723b17",
       "version_major": 2,
       "version_minor": 0
      },
      "text/plain": [
       "HBox(children=(IntProgress(value=0, description='OPT: building index', max=486357, style=ProgressStyle(descrip…"
      ]
     },
     "metadata": {},
     "output_type": "display_data"
    },
    {
     "data": {
      "application/vnd.jupyter.widget-view+json": {
       "model_id": "bcb3bee39c16451bad1de99073623661",
       "version_major": 2,
       "version_minor": 0
      },
      "text/plain": [
       "HBox(children=(IntProgress(value=0, description='OPT', max=486357, style=ProgressStyle(description_width='init…"
      ]
     },
     "metadata": {},
     "output_type": "display_data"
    }
   ],
   "source": [
    "X = np.array([], dtype=np.int64).reshape(0, sequence_length, cache_size, num_params)\n",
    "Y = np.array([], dtype=np.int64).reshape(0, cache_size)\n",
    "Z = np.array([], dtype=np.int32).reshape(0, 1)\n",
    "trainHitrate = belady_opt(trainBlockTrace, cache_size)\n",
    "X_train = X\n",
    "Y_train = Y\n",
    "\n",
    "# training_data_file = 'fiu_01.pkl'\n",
    "training_data_file = 'home_1_1.pkl'\n",
    "with open(training_data_file, 'wb+') as f:\n",
    "    pickle.dump([X, Y, Z], f)"
   ]
  },
  {
   "cell_type": "code",
   "execution_count": 102,
   "metadata": {},
   "outputs": [
    {
     "name": "stdout",
     "output_type": "stream",
     "text": [
      "[18]\n",
      "[[[7.00000000e+00 1.00000000e+00 5.08455712e+08]\n",
      "  [1.00000000e+00 1.00000000e+00 5.08516672e+08]\n",
      "  [2.00000000e+00 1.00000000e+00 5.08516680e+08]\n",
      "  [3.00000000e+00 1.00000000e+00 5.08516688e+08]\n",
      "  [8.00000000e+00 1.00000000e+00 5.08455720e+08]\n",
      "  [9.00000000e+00 1.00000000e+00 5.08500288e+08]\n",
      "  [1.00000000e+01 1.00000000e+00 5.08500296e+08]\n",
      "  [4.00000000e+00 1.00000000e+00 5.19854400e+08]\n",
      "  [5.00000000e+00 1.00000000e+00 4.88846200e+08]\n",
      "  [6.00000000e+00 1.00000000e+00 5.08455704e+08]]\n",
      "\n",
      " [[6.00000000e+00 1.00000000e+00 5.08455712e+08]\n",
      "  [1.00000000e+00 1.00000000e+00 5.08516672e+08]\n",
      "  [2.00000000e+00 1.00000000e+00 5.08516680e+08]\n",
      "  [3.00000000e+00 1.00000000e+00 5.08516688e+08]\n",
      "  [7.00000000e+00 1.00000000e+00 5.08455720e+08]\n",
      "  [8.00000000e+00 1.00000000e+00 5.08500288e+08]\n",
      "  [9.00000000e+00 1.00000000e+00 5.08500296e+08]\n",
      "  [1.00000000e+01 1.00000000e+00 5.08500304e+08]\n",
      "  [4.00000000e+00 1.00000000e+00 4.88846200e+08]\n",
      "  [5.00000000e+00 1.00000000e+00 5.08455704e+08]]\n",
      "\n",
      " [[5.00000000e+00 1.00000000e+00 5.08455712e+08]\n",
      "  [1.00000000e+01 2.00000000e+00 5.08516672e+08]\n",
      "  [1.00000000e+00 1.00000000e+00 5.08516680e+08]\n",
      "  [2.00000000e+00 1.00000000e+00 5.08516688e+08]\n",
      "  [6.00000000e+00 1.00000000e+00 5.08455720e+08]\n",
      "  [7.00000000e+00 1.00000000e+00 5.08500288e+08]\n",
      "  [8.00000000e+00 1.00000000e+00 5.08500296e+08]\n",
      "  [9.00000000e+00 1.00000000e+00 5.08500304e+08]\n",
      "  [3.00000000e+00 1.00000000e+00 4.88846200e+08]\n",
      "  [4.00000000e+00 1.00000000e+00 5.08455704e+08]]\n",
      "\n",
      " [[4.00000000e+00 1.00000000e+00 5.08455712e+08]\n",
      "  [9.00000000e+00 2.00000000e+00 5.08516672e+08]\n",
      "  [1.00000000e+01 2.00000000e+00 5.08516680e+08]\n",
      "  [1.00000000e+00 1.00000000e+00 5.08516688e+08]\n",
      "  [5.00000000e+00 1.00000000e+00 5.08455720e+08]\n",
      "  [6.00000000e+00 1.00000000e+00 5.08500288e+08]\n",
      "  [7.00000000e+00 1.00000000e+00 5.08500296e+08]\n",
      "  [8.00000000e+00 1.00000000e+00 5.08500304e+08]\n",
      "  [2.00000000e+00 1.00000000e+00 4.88846200e+08]\n",
      "  [3.00000000e+00 1.00000000e+00 5.08455704e+08]]\n",
      "\n",
      " [[3.00000000e+00 1.00000000e+00 5.08455712e+08]\n",
      "  [8.00000000e+00 2.00000000e+00 5.08516672e+08]\n",
      "  [9.00000000e+00 2.00000000e+00 5.08516680e+08]\n",
      "  [1.00000000e+01 2.00000000e+00 5.08516688e+08]\n",
      "  [4.00000000e+00 1.00000000e+00 5.08455720e+08]\n",
      "  [5.00000000e+00 1.00000000e+00 5.08500288e+08]\n",
      "  [6.00000000e+00 1.00000000e+00 5.08500296e+08]\n",
      "  [7.00000000e+00 1.00000000e+00 5.08500304e+08]\n",
      "  [1.00000000e+00 1.00000000e+00 4.88846200e+08]\n",
      "  [2.00000000e+00 1.00000000e+00 5.08455704e+08]]]\n",
      "(147, 5, 10, 3)\n",
      "(147, 10)\n"
     ]
    }
   ],
   "source": [
    "with open(training_data_file, 'rb') as f:\n",
    "    x, y, z = pickle.load(f)\n",
    "    \n",
    "#    for i, v in enumerate(x):\n",
    "#        if i + 1 == x.shape[0]:\n",
    "#            continue\n",
    "#        print(np.array_equal(x[i], x[i + 1]))\n",
    "#    print(x[-2, -2] == x[-2,-1])\n",
    "    print(z[5])\n",
    "    print(x[5])\n",
    "    print(x.shape)\n",
    "    print(y.shape)\n"
   ]
  },
  {
   "cell_type": "markdown",
   "metadata": {},
   "source": [
    "#### Sample test"
   ]
  },
  {
   "cell_type": "code",
   "execution_count": null,
   "metadata": {},
   "outputs": [],
   "source": [
    "lfu = {2: 1, 3: 2, 4: 1}\n",
    "lru = [2, 3, 4]\n",
    "cache = [3, 2, 4]\n",
    "hidden = np.zeros((5, 3, 3))\n",
    "\n",
    "hidden = get_multiple_length_input(5, hidden, lfu, lru, cache, lambda x: x)\n",
    "print(hidden)\n",
    "hidden = get_multiple_length_input(5, hidden, lfu, lru, cache, normalize_columns)\n",
    "print(hidden)"
   ]
  },
  {
   "cell_type": "code",
   "execution_count": null,
   "metadata": {},
   "outputs": [],
   "source": [
    "blocktrace = trainBlockTrace\n",
    "OPT = defaultdict(deque)\n",
    "for i, block in enumerate(tqdm(blocktrace, desc=\"OPT: building index\")):\n",
    "        OPT[block].append(i)\n",
    "OPT"
   ]
  },
  {
   "cell_type": "code",
   "execution_count": null,
   "metadata": {},
   "outputs": [],
   "source": []
  }
 ],
 "metadata": {
  "kernelspec": {
   "display_name": "Python 3",
   "language": "python",
   "name": "python3"
  },
  "language_info": {
   "codemirror_mode": {
    "name": "ipython",
    "version": 3
   },
   "file_extension": ".py",
   "mimetype": "text/x-python",
   "name": "python",
   "nbconvert_exporter": "python",
   "pygments_lexer": "ipython3",
   "version": "3.7.1"
  }
 },
 "nbformat": 4,
 "nbformat_minor": 2
}
