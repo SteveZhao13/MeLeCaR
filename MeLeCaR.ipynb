{
 "cells": [
  {
   "cell_type": "markdown",
   "metadata": {},
   "source": [
    "# Meta Learning Cache Replacement Policy"
   ]
  },
  {
   "cell_type": "markdown",
   "metadata": {},
   "source": [
    "## Decompress tar.gz\n",
    "\n",
    "**Don't run unless you have a lot of storage!**"
   ]
  },
  {
   "cell_type": "code",
   "execution_count": null,
   "metadata": {},
   "outputs": [],
   "source": [
    "import argparse\n",
    "import os\n",
    "\n",
    "\n",
    "EXTENSION = '.tar.gz'\n",
    "BLKPARSE = '.blkparse'\n",
    "\n",
    "\n",
    "def main(input_dir, output_dir):\n",
    "  assert os.path.isdir(input_dir), \"The input directory {} does not exist\".format(input_dir)\n",
    "\n",
    "  input_dir = input_dir.rstrip(\"/\")\n",
    "  if not os.path.isdir(output_dir):\n",
    "    print(\"Creating output directory {}\".format(output_dir))\n",
    "    os.mkdir(output_dir)\n",
    "\n",
    "  for file in os.listdir(input_dir):\n",
    "    if not file.endswith(EXTENSION):\n",
    "      continue\n",
    "    \n",
    "    print(\"Extracting and moving {}\".format(file))\n",
    "    execute_command(\"tar -xvzf {}\".format(input_dir + '/' + file))\n",
    "    execute_command(\"mv ./*{} {}\".format(BLKPARSE, output_dir))\n",
    "    \n",
    "\n",
    "def execute_command(command):\n",
    "  os.system(command)\n",
    "\n"
   ]
  },
  {
   "cell_type": "code",
   "execution_count": null,
   "metadata": {},
   "outputs": [],
   "source": [
    "input_dir = \"FIU_raw\"\n",
    "output_dir = \"FIU_trace\"\n",
    "main(input_dir, output_dir)"
   ]
  },
  {
   "cell_type": "markdown",
   "metadata": {},
   "source": [
    "## Install Dependency"
   ]
  },
  {
   "cell_type": "code",
   "execution_count": 1,
   "metadata": {},
   "outputs": [],
   "source": [
    "import sys\n",
    "import random\n",
    "import numpy as np\n",
    "import pandas as pd\n",
    "from tqdm import tqdm_notebook as tqdm \n",
    "from collections import Counter, deque, defaultdict\n",
    "from sklearn import preprocessing\n",
    "from sklearn.preprocessing import normalize\n",
    "from sklearn.neighbors import KNeighborsClassifier\n",
    "from sklearn.model_selection import train_test_split\n",
    "from sklearn.linear_model import LogisticRegression\n",
    "from sklearn.metrics import accuracy_score, confusion_matrix\n",
    "from sklearn.neural_network import MLPClassifier\n",
    "import tensorflow as tf\n",
    "import pickle\n"
   ]
  },
  {
   "cell_type": "markdown",
   "metadata": {},
   "source": [
    "## Block Cache Model"
   ]
  },
  {
   "cell_type": "markdown",
   "metadata": {},
   "source": [
    "### Global Variable"
   ]
  },
  {
   "cell_type": "code",
   "execution_count": 33,
   "metadata": {},
   "outputs": [],
   "source": [
    "# Maximum block number\n",
    "maxpos = 1000000000000\n",
    "\n",
    "# Number of features (Recency, Frequency, Block No.)\n",
    "num_params = 3\n",
    "\n",
    "# Cache Size\n",
    "cache_size = 100\n",
    "\n",
    "# Sequence Length\n",
    "sequence_length = 5\n",
    "\n",
    "# How often to store the data (Removed currently)\n",
    "sampling_freq = cache_size\n",
    "\n",
    "# How many % of cache to use\n",
    "eviction = int(0.7 * cache_size)  \n",
    "\n",
    "# Results\n",
    "lruCorrect = 0\n",
    "lruIncorrect = 0\n",
    "\n",
    "lfuCorrect = 0\n",
    "lfuIncorrect = 0\n",
    "\n",
    "# Variables\n",
    "X = np.array([], dtype=np.int64).reshape(0,num_params)\n",
    "Y = np.array([], dtype=np.int64).reshape(0,1)"
   ]
  },
  {
   "cell_type": "markdown",
   "metadata": {},
   "source": [
    "### Load workload\n",
    "**cheetah.cs.fiu.edu-110108-113008.1.blkparse** does not contain correct data."
   ]
  },
  {
   "cell_type": "code",
   "execution_count": 34,
   "metadata": {},
   "outputs": [
    {
     "data": {
      "text/plain": [
       "200"
      ]
     },
     "execution_count": 34,
     "metadata": {},
     "output_type": "execute_result"
    }
   ],
   "source": [
    "train = \"FIU_trace/cheetah.cs.fiu.edu-110108-113008.2.blkparse\"\n",
    "\n",
    "df = pd.read_csv(train, sep=' ',header = None)\n",
    "df.columns = ['timestamp','pid','pname','blockNo', \\\n",
    "              'blockSize', 'readOrWrite', 'bdMajor', 'bdMinor', 'hash']\n",
    "\n",
    "trainBlockTrace = df['blockNo'].tolist()\n",
    "#trainBlockTrace = trainBlockTrace[:int(len(trainBlockTrace)*0.001)]\n",
    "trainBlockTrace = trainBlockTrace[:200]\n",
    "len(trainBlockTrace)"
   ]
  },
  {
   "cell_type": "markdown",
   "metadata": {},
   "source": [
    "### Data Preprocessing and Data Construction"
   ]
  },
  {
   "cell_type": "code",
   "execution_count": 35,
   "metadata": {},
   "outputs": [],
   "source": [
    "# Taken from Shehbaz\n",
    "def get_recency(lru, cache):\n",
    "    recency = []\n",
    "    recency_dict = defaultdict(int)\n",
    "    \n",
    "    # Compute the recency order of each page in cache\n",
    "    for time in range(len(lru)):\n",
    "        recency_dict[lru[time]] = time\n",
    "        \n",
    "    for block in cache:\n",
    "        recency.append(recency_dict[block])\n",
    "\n",
    "    return recency\n",
    "\n",
    "def get_frequency(lfu, cache):\n",
    "    frequency = []\n",
    "    \n",
    "    for block in cache:\n",
    "        frequency.append(lfu[block])\n",
    "    return frequency\n",
    "\n",
    "def normalize_columns(input):\n",
    "    return normalize(input, axis=0)"
   ]
  },
  {
   "cell_type": "code",
   "execution_count": 58,
   "metadata": {},
   "outputs": [],
   "source": [
    "def get_single_length_input(lfu, lru, cache, preprocess_func):\n",
    "    input_recency = get_recency(lru, cache)\n",
    "    input_frequency = get_frequency(lfu, cache)\n",
    "    input_block_num = cache[:]\n",
    "    \n",
    "    # Columns: recency, frequency, block number\n",
    "    # Row: cache location\n",
    "    raw_input = np.column_stack((input_recency, input_frequency, input_block_num))\n",
    "    \n",
    "    return preprocess_func(raw_input)\n",
    "\n",
    "\n",
    "SEQ_DIM = 0\n",
    "def get_multiple_length_input(sequence_length, prev_inputs, lfu, lru, cache, preprocess_func):\n",
    "    assert prev_inputs.shape[SEQ_DIM] == sequence_length\n",
    "    current_input = get_single_length_input(lfu, lru, cache, preprocess_func)\n",
    "    return np.vstack((prev_inputs[1:], current_input[None]))\n",
    "    \n",
    "\n",
    "def get_output(pre_cache, post_cache):\n",
    "    pass\n",
    "\n",
    "# Taken from Shehbaz.\n",
    "def getY(C,D):\n",
    "    assert(len(C) == len(D))\n",
    "    Y_current = []\n",
    "    KV_sorted = Counter(D)\n",
    "    evict_dict = dict(KV_sorted.most_common(eviction))\n",
    "    assert(len(evict_dict) == eviction)\n",
    "    all_vals = evict_dict.values()\n",
    "    for e in C:\n",
    "        if e in evict_dict.values():\n",
    "            Y_current.append(1)\n",
    "        else:\n",
    "            Y_current.append(0)\n",
    "    #print (Y_current.count(1))\n",
    "    assert(Y_current.count(1) == eviction)\n",
    "    assert((set(all_vals)).issubset(set(C)))\n",
    "    return Y_current\n",
    "\n",
    "def populateData(LFUDict, LRUQ, C, D):\n",
    "#def populateData(LFUDict, LRUQ, C, D, CacheTS, CachePID):\n",
    "    global X,Y\n",
    "    C = list(C)\n",
    "    Y_current = getY(C, D)\n",
    "    #X_current = getX(LRUQ, LFUDict, C, CacheTS, CachePID)\n",
    "    X_current = get_single_length_input(LFUDict, LRUQ, C, lambda x: x)\n",
    "\n",
    "    Y = np.vstack((Y, np.array(Y_current)[None]))\n",
    "    X = np.vstack((X, X_current[None]))\n",
    "\n",
    "    assert(Y_current.count(1) == eviction)\n",
    "    return Y_current"
   ]
  },
  {
   "cell_type": "markdown",
   "metadata": {},
   "source": [
    "### Belady Optimal Algorithm (From Shehbaz)"
   ]
  },
  {
   "cell_type": "code",
   "execution_count": 37,
   "metadata": {},
   "outputs": [],
   "source": [
    "def belady_opt(blocktrace, frame):\n",
    "    global maxpos\n",
    "    \n",
    "    optimal = defaultdict(deque)\n",
    "    deleted = defaultdict(int)\n",
    "    lfu = defaultdict(int)\n",
    "    lru = []\n",
    "\n",
    "    # Build the whole index for finding optimal eviction ordering\n",
    "    for request_time, block in enumerate(tqdm(blocktrace, desc=\"OPT: building index\")):\n",
    "        optimal[block].append(request_time)\n",
    "\n",
    "    hit, miss = 0, 0\n",
    "\n",
    "    cache = []\n",
    "    \n",
    "    for request_time, block in enumerate(tqdm(blocktrace, desc=\"OPT\")):\n",
    "        # increase frequency count\n",
    "        lfu[block] +=1\n",
    "\n",
    "        # Remove the block i at time step j from the index\n",
    "        if len(optimal[block]) is not 0 and optimal[block][0] == request_time:\n",
    "            optimal[block].popleft()\n",
    "\n",
    "        \n",
    "        if block in cache:\n",
    "            # Cache Hit\n",
    "            # Update block to MRU position\n",
    "            hit += 1\n",
    "            lru.remove(block)\n",
    "            lru.append(block)\n",
    "            \n",
    "            assert request_time in deleted\n",
    "            \n",
    "            del deleted[request_time]\n",
    "            if len(optimal[block]) is not 0:\n",
    "                deleted[optimal[block][0]] = block\n",
    "                optimal[block].popleft()\n",
    "            else:\n",
    "                deleted[maxpos] = block\n",
    "                maxpos -= 1\n",
    "        else:\n",
    "            # Cache Miss\n",
    "            miss += 1\n",
    "            \n",
    "            if len(cache) == frame:\n",
    "                # Cache is full\n",
    "                assert(len(deleted) == frame)\n",
    "                evictpos = max(deleted)\n",
    "                \n",
    "                #if (seq_number % sampling_freq +1 == sampling_freq):\n",
    "                y_opt = populateData(lfu, lru, cache, deleted)\n",
    "    \n",
    "                cache[cache.index(deleted[evictpos])] = block\n",
    "                lru.remove(deleted[evictpos])\n",
    "                del deleted[evictpos]\n",
    "            else:\n",
    "                # Cache isn't full\n",
    "                cache.append(block)\n",
    "            \n",
    "            # Add the candidate victim page to the j'th time step\n",
    "            if len(optimal[block]) is not 0:\n",
    "                deleted[optimal[block][0]] = block\n",
    "                optimal[block].popleft()\n",
    "            else:\n",
    "                deleted[maxpos] = block\n",
    "                maxpos -= 1\n",
    "            lru.append(block)\n",
    "\n",
    "\n",
    "    hitrate = hit / (hit + miss)\n",
    "\n",
    "    return hitrate"
   ]
  },
  {
   "cell_type": "markdown",
   "metadata": {},
   "source": [
    "## Generate training data"
   ]
  },
  {
   "cell_type": "code",
   "execution_count": 59,
   "metadata": {},
   "outputs": [
    {
     "data": {
      "application/vnd.jupyter.widget-view+json": {
       "model_id": "b16ddd5ddb224e1b8ff70bde8de3f8c3",
       "version_major": 2,
       "version_minor": 0
      },
      "text/plain": [
       "HBox(children=(IntProgress(value=0, description='OPT: building index', max=200, style=ProgressStyle(descriptio…"
      ]
     },
     "metadata": {},
     "output_type": "display_data"
    },
    {
     "name": "stdout",
     "output_type": "stream",
     "text": [
      "\n"
     ]
    },
    {
     "data": {
      "application/vnd.jupyter.widget-view+json": {
       "model_id": "8b66a1fb025348d583040bffb8da732d",
       "version_major": 2,
       "version_minor": 0
      },
      "text/plain": [
       "HBox(children=(IntProgress(value=0, description='OPT', max=200, style=ProgressStyle(description_width='initial…"
      ]
     },
     "metadata": {},
     "output_type": "display_data"
    },
    {
     "name": "stdout",
     "output_type": "stream",
     "text": [
      "\n"
     ]
    }
   ],
   "source": [
    "X = np.array([], dtype=np.int64).reshape(0, cache_size, num_params)\n",
    "Y = np.array([], dtype=np.int64).reshape(0, cache_size)\n",
    "trainHitrate = belady_opt(trainBlockTrace, cache_size)\n",
    "X_train = X\n",
    "Y_train = Y\n",
    "\n",
    "training_data_file = 'fiu_01.pkl'\n",
    "with open(training_data_file, 'wb+') as f:\n",
    "    pickle.dump([X, Y], f)"
   ]
  },
  {
   "cell_type": "code",
   "execution_count": 73,
   "metadata": {},
   "outputs": [
    {
     "name": "stdout",
     "output_type": "stream",
     "text": [
      "(7, 100, 3)\n",
      "False\n",
      "100\n",
      "[[ 18579576 508516672 508516680 508516688 519854376 519854384 519854392\n",
      "  519854400 488846200 508455704 508455712 508455720 508500288 508500296\n",
      "  508500304 283193112 283193120 283193128 283193136 283193144 283193152\n",
      "  283193160 283193168 283193176 283193184 283193208 283193216 283193224\n",
      "  283193232 283193240 283193248 283193256 283193264 283193272 283193280\n",
      "  283193288 283193296 283193304 283193192 283193200 283193312 283193320\n",
      "  283193328 283193336 283193344 283193352 283193360 283193368 283193376\n",
      "  283193384 283193392 283193400 283193408 283193416 283193424 283193432\n",
      "  283193440 283193448 283193456 283193464 283193472 283193480 283193488\n",
      "  283193496 283193504 283193512 283193520 283193528 283193536 283193544\n",
      "  283193552 283193560 283193568 283193576 283193584 283193592 283193600\n",
      "  283193608 283193616 283193624 283193632 283193640 283193648 283193656\n",
      "  283193664 283193672 283193680 283193688 395126368 283193696 283193704\n",
      "  283193712 283193720 283193728 283193736 283193744 283193752 283193760\n",
      "  283193768 283193776]\n",
      " [283193784 508516672 508516680 508516688 519854376 519854384 519854392\n",
      "  519854400 488846200 508455704 508455712 508455720 508500288 508500296\n",
      "  508500304 283193112 283193120 283193128 283193136 283193144 283193152\n",
      "  283193160 283193168 283193176 283193184 283193208 283193216 283193224\n",
      "  283193232 283193240 283193248 283193256 283193264 283193272 283193280\n",
      "  283193288 283193296 283193304 283193192 283193200 283193312 283193320\n",
      "  283193328 283193336 283193344 283193352 283193360 283193368 283193376\n",
      "  283193384 283193392 283193400 283193408 283193416 283193424 283193432\n",
      "  283193440 283193448 283193456 283193464 283193472 283193480 283193488\n",
      "  283193496 283193504 283193512 283193520 283193528 283193536 283193544\n",
      "  283193552 283193560 283193568 283193576 283193584 283193592 283193600\n",
      "  283193608 283193616 283193624 283193632 283193640 283193648 283193656\n",
      "  283193664 283193672 283193680 283193688 395126368 283193696 283193704\n",
      "  283193712 283193720 283193728 283193736 283193744 283193752 283193760\n",
      "  283193768 283193776]]\n"
     ]
    }
   ],
   "source": [
    "with open(training_data_file, 'rb') as f:\n",
    "    x, y = pickle.load(f)\n",
    "    print(x.shape)\n",
    "    test = set(x[0,:,2])\n",
    "    test2 = set(x[1,:,2])\n",
    "    test.union(test2)\n",
    "    print(test == test2)\n",
    "    print(len(test))\n",
    "    print(x[0:2,:,2])\n"
   ]
  },
  {
   "cell_type": "markdown",
   "metadata": {},
   "source": [
    "#### Sample test"
   ]
  },
  {
   "cell_type": "code",
   "execution_count": null,
   "metadata": {},
   "outputs": [],
   "source": [
    "lfu = {2: 1, 3: 2, 4: 1}\n",
    "lru = [2, 3, 4]\n",
    "cache = [3, 2, 4]\n",
    "hidden = np.zeros((5, 3, 3))\n",
    "\n",
    "hidden = get_multiple_length_input(5, hidden, lfu, lru, cache, lambda x: x)\n",
    "print(hidden)\n",
    "hidden = get_multiple_length_input(5, hidden, lfu, lru, cache, normalize_columns)\n",
    "print(hidden)"
   ]
  },
  {
   "cell_type": "code",
   "execution_count": null,
   "metadata": {},
   "outputs": [],
   "source": [
    "blocktrace = trainBlockTrace\n",
    "OPT = defaultdict(deque)\n",
    "for i, block in enumerate(tqdm(blocktrace, desc=\"OPT: building index\")):\n",
    "        OPT[block].append(i)\n",
    "OPT"
   ]
  },
  {
   "cell_type": "code",
   "execution_count": null,
   "metadata": {},
   "outputs": [],
   "source": []
  }
 ],
 "metadata": {
  "kernelspec": {
   "display_name": "Python 3",
   "language": "python",
   "name": "python3"
  },
  "language_info": {
   "codemirror_mode": {
    "name": "ipython",
    "version": 3
   },
   "file_extension": ".py",
   "mimetype": "text/x-python",
   "name": "python",
   "nbconvert_exporter": "python",
   "pygments_lexer": "ipython3",
   "version": "3.7.1"
  }
 },
 "nbformat": 4,
 "nbformat_minor": 2
}
