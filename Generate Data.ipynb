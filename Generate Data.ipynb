{
 "cells": [
  {
   "cell_type": "markdown",
   "metadata": {},
   "source": [
    "# Meta Learning Cache Replacement Policy"
   ]
  },
  {
   "cell_type": "markdown",
   "metadata": {},
   "source": [
    "## Install Dependency"
   ]
  },
  {
   "cell_type": "code",
   "execution_count": 1,
   "metadata": {},
   "outputs": [],
   "source": [
    "import sys\n",
    "import random\n",
    "import numpy as np\n",
    "import pandas as pd\n",
    "from tqdm import tqdm_notebook as tqdm \n",
    "from collections import Counter, deque, defaultdict\n",
    "from sklearn import preprocessing\n",
    "from sklearn.preprocessing import normalize\n",
    "from sklearn.neighbors import KNeighborsClassifier\n",
    "from sklearn.model_selection import train_test_split\n",
    "from sklearn.linear_model import LogisticRegression\n",
    "from sklearn.metrics import accuracy_score, confusion_matrix\n",
    "from sklearn.neural_network import MLPClassifier\n",
    "import tensorflow as tf\n",
    "import pickle\n"
   ]
  },
  {
   "cell_type": "markdown",
   "metadata": {},
   "source": [
    "## Block Cache Model"
   ]
  },
  {
   "cell_type": "markdown",
   "metadata": {},
   "source": [
    "### Global Variable"
   ]
  },
  {
   "cell_type": "code",
   "execution_count": 2,
   "metadata": {},
   "outputs": [],
   "source": [
    "# Maximum block number\n",
    "maxpos = 1000000000000\n",
    "\n",
    "# Number of features (Recency, Frequency, Block No.)\n",
    "num_params = 3\n",
    "\n",
    "# Cache Size\n",
    "cache_size = 30\n",
    "\n",
    "# Sequence Length\n",
    "sequence_length = 5\n",
    "\n",
    "# Storage\n",
    "sequence_data = np.zeros((sequence_length, cache_size, num_params))\n",
    "\n",
    "# How often to store the data (Removed currently)\n",
    "sampling_freq = cache_size\n",
    "\n",
    "# How many % of cache to use\n",
    "eviction = int(0.2 * cache_size)  \n",
    "\n",
    "# Results\n",
    "lruCorrect = 0\n",
    "lruIncorrect = 0\n",
    "\n",
    "lfuCorrect = 0\n",
    "lfuIncorrect = 0\n"
   ]
  },
  {
   "cell_type": "markdown",
   "metadata": {},
   "source": [
    "### Load workload\n",
    "**cheetah.cs.fiu.edu-110108-113008.1.blkparse** does not contain correct data."
   ]
  },
  {
   "cell_type": "code",
   "execution_count": 3,
   "metadata": {},
   "outputs": [],
   "source": [
    "train_file = \"FIU_trace/casa-110108-112108.6.blkparse\"\n",
    "read_portion = 0.01\n",
    "\n",
    "\n",
    "train_data_file = 'test_10000_500000.pkl'"
   ]
  },
  {
   "cell_type": "code",
   "execution_count": 5,
   "metadata": {},
   "outputs": [
    {
     "data": {
      "text/plain": [
       "490000"
      ]
     },
     "execution_count": 5,
     "metadata": {},
     "output_type": "execute_result"
    }
   ],
   "source": [
    "df = pd.read_csv(train_file, sep=' ',header = None)\n",
    "df.columns = ['timestamp','pid','pname','blockNo', \\\n",
    "              'blockSize', 'readOrWrite', 'bdMajor', 'bdMinor', 'hash']\n",
    "\n",
    "trainBlockTrace = df['blockNo'].tolist()\n",
    "trainBlockTrace = trainBlockTrace[10000:500000]\n",
    "#trainBlockTrace = trainBlockTrace[:int(len(trainBlockTrace) * read_portion)]\n",
    "len(trainBlockTrace)"
   ]
  },
  {
   "cell_type": "markdown",
   "metadata": {},
   "source": [
    "### Data Preprocessing and Data Construction"
   ]
  },
  {
   "cell_type": "code",
   "execution_count": 6,
   "metadata": {},
   "outputs": [],
   "source": [
    "# Taken from Shehbaz\n",
    "def get_recency(lru, cache):\n",
    "    recency = []\n",
    "    recency_dict = defaultdict(int)\n",
    "    \n",
    "    # Compute the recency order of each page in cache\n",
    "    for time in range(len(lru)):\n",
    "        recency_dict[lru[time]] = time + 1\n",
    "        \n",
    "    for block in cache:\n",
    "        recency.append(recency_dict[block])\n",
    "\n",
    "    return recency\n",
    "\n",
    "def get_frequency(lfu, cache):\n",
    "    frequency = []\n",
    "    \n",
    "    for block in cache:\n",
    "        frequency.append(lfu[block])\n",
    "    return frequency\n",
    "\n",
    "def normalize_columns(input):\n",
    "    return normalize(input, axis=0)\n",
    "\n",
    "def identity(input):\n",
    "    return input"
   ]
  },
  {
   "cell_type": "code",
   "execution_count": 7,
   "metadata": {},
   "outputs": [],
   "source": [
    "def get_single_length_input(lfu, lru, cache, cache_size, preprocess_func):\n",
    "    input_recency = get_recency(lru, cache)\n",
    "    input_frequency = get_frequency(lfu, cache)\n",
    "    input_block_num = cache[:]\n",
    "    \n",
    "    if len(input_recency) < cache_size:\n",
    "        for i in range(0, cache_size - len(input_recency)):\n",
    "            input_recency.append(0)\n",
    "            input_frequency.append(0)\n",
    "            input_block_num.append(0)\n",
    "    \n",
    "    # Columns: recency, frequency, block number\n",
    "    # Row: cache location\n",
    "    raw_input = np.column_stack((input_recency, input_frequency, input_block_num))\n",
    "    \n",
    "    return preprocess_func(raw_input)\n",
    "\n",
    "\n",
    "SEQ_DIM = 0\n",
    "def get_multiple_length_input(sequence_length, prev_inputs, lfu, lru, cache, cache_size, preprocess_func):\n",
    "    assert prev_inputs.shape[SEQ_DIM] == sequence_length\n",
    "    current_input = get_single_length_input(lfu, lru, cache, cache_size, preprocess_func)\n",
    "    return np.vstack((prev_inputs[1:], current_input[None]))\n",
    "    \n",
    "\n",
    "def get_outputs(cache, delete):\n",
    "    assert(len(cache) == len(delete))\n",
    "    Y_current = []\n",
    "    KV_sorted = Counter(delete)\n",
    "    evict_dict = dict(KV_sorted.most_common(eviction))\n",
    "    \n",
    "    assert(len(evict_dict) == eviction)\n",
    "    all_vals = evict_dict.values()\n",
    "    for e in cache:\n",
    "        if e in evict_dict.values():\n",
    "            Y_current.append(1)\n",
    "        else:\n",
    "            Y_current.append(0)\n",
    "\n",
    "    assert(Y_current.count(1) == eviction)\n",
    "    assert((set(all_vals)).issubset(set(cache)))\n",
    "    return Y_current\n",
    "\n",
    "\n",
    "def store_pair(request_time, seq_len, seq_data, lfu, lru, cache, deleted, cache_size, preprocess_func, evictpos):\n",
    "    global X,Y,Z,W\n",
    "    cache = list(cache)\n",
    "    Y_current = get_outputs(cache, deleted)\n",
    "    \n",
    "    Y = np.vstack((Y, np.array(Y_current)[None]))\n",
    "    X = np.vstack((X, seq_data[None]))\n",
    "    Z = np.vstack((Z, request_time))\n",
    "    W = np.vstack((W, evictpos))\n",
    "\n",
    "    assert(Y_current.count(1) == eviction)\n",
    "    return Y_current"
   ]
  },
  {
   "cell_type": "markdown",
   "metadata": {},
   "source": [
    "### Belady Optimal Algorithm (From Shehbaz)"
   ]
  },
  {
   "cell_type": "code",
   "execution_count": 8,
   "metadata": {},
   "outputs": [],
   "source": [
    "def belady_opt(blocktrace, frame):\n",
    "    global maxpos, sequence_data, sequence_length\n",
    "    \n",
    "    optimal = defaultdict(deque)\n",
    "    deleted = defaultdict(int)\n",
    "    lfu = defaultdict(int)\n",
    "    lru = []\n",
    "\n",
    "    # Build the whole index for finding optimal eviction ordering\n",
    "    for request_time, block in enumerate(tqdm(blocktrace, desc=\"OPT: building index\")):\n",
    "        optimal[block].append(request_time)\n",
    "\n",
    "    hit, miss = 0, 0\n",
    "\n",
    "    cache = []\n",
    "    \n",
    "    for request_time, block in enumerate(tqdm(blocktrace, desc=\"OPT\")):\n",
    "        old_seq = sequence_data[:]\n",
    "        # increase frequency count\n",
    "        lfu[block] +=1\n",
    "\n",
    "        # Remove the block i at time step j from the index\n",
    "        if len(optimal[block]) is not 0 and optimal[block][0] == request_time:\n",
    "            optimal[block].popleft()\n",
    "\n",
    "        \n",
    "        if block in cache:\n",
    "            # Cache Hit\n",
    "            # Update block to MRU position\n",
    "            hit += 1\n",
    "            lru.remove(block)\n",
    "            lru.append(block)\n",
    "            \n",
    "            assert request_time in deleted\n",
    "            \n",
    "            del deleted[request_time]\n",
    "            if len(optimal[block]) is not 0:\n",
    "                deleted[optimal[block][0]] = block\n",
    "                optimal[block].popleft()\n",
    "            else:\n",
    "                deleted[maxpos] = block\n",
    "                maxpos -= 1\n",
    "            sequence_data = get_multiple_length_input(sequence_length, sequence_data, lfu, lru, cache, cache_size, normalize_columns)\n",
    "        else:\n",
    "            # Cache Miss\n",
    "            miss += 1\n",
    "            if len(cache) == frame:\n",
    "                # Cache is full\n",
    "                assert(len(deleted) == frame)\n",
    "                evictpos = max(deleted)\n",
    "                \n",
    "                # Make certain amount of cache as valid eviction candidates\n",
    "                y_opt = store_pair(request_time, sequence_length, sequence_data, lfu, lru, cache, deleted, cache_size, normalize_columns, evictpos)\n",
    "    \n",
    "                cache[cache.index(deleted[evictpos])] = block\n",
    "                lru.remove(deleted[evictpos])\n",
    "                del deleted[evictpos]\n",
    "            else:\n",
    "                # Cache isn't full\n",
    "                cache.append(block)                \n",
    "            \n",
    "            # Add the candidate victim page to the j'th time step\n",
    "            if len(optimal[block]) is not 0:\n",
    "                deleted[optimal[block][0]] = block\n",
    "                optimal[block].popleft()\n",
    "            else:\n",
    "                deleted[maxpos] = block\n",
    "                maxpos -= 1\n",
    "            lru.append(block)\n",
    "            sequence_data = get_multiple_length_input(sequence_length, sequence_data, lfu, lru, cache, cache_size, normalize_columns)\n",
    "\n",
    "\n",
    "    hitrate = hit / (hit + miss)\n",
    "\n",
    "    return hitrate"
   ]
  },
  {
   "cell_type": "markdown",
   "metadata": {},
   "source": [
    "## Generate training data"
   ]
  },
  {
   "cell_type": "code",
   "execution_count": null,
   "metadata": {},
   "outputs": [
    {
     "data": {
      "application/vnd.jupyter.widget-view+json": {
       "model_id": "bec56d9430ae43d6a5d476cf89bccff5",
       "version_major": 2,
       "version_minor": 0
      },
      "text/plain": [
       "HBox(children=(IntProgress(value=0, description='OPT: building index', max=490000, style=ProgressStyle(descrip…"
      ]
     },
     "metadata": {},
     "output_type": "display_data"
    },
    {
     "name": "stdout",
     "output_type": "stream",
     "text": [
      "\n"
     ]
    },
    {
     "data": {
      "application/vnd.jupyter.widget-view+json": {
       "model_id": "88ae18eecd994a48a053f95acaeba57b",
       "version_major": 2,
       "version_minor": 0
      },
      "text/plain": [
       "HBox(children=(IntProgress(value=0, description='OPT', max=490000, style=ProgressStyle(description_width='init…"
      ]
     },
     "metadata": {},
     "output_type": "display_data"
    }
   ],
   "source": [
    "X = np.array([], dtype=np.int64).reshape(0, sequence_length, cache_size, num_params)\n",
    "Y = np.array([], dtype=np.int64).reshape(0, cache_size)\n",
    "Z = np.array([], dtype=np.int32).reshape(0, 1)\n",
    "W = np.array([], dtype=np.int32).reshape(0, 1)\n",
    "\n",
    "trainHitrate = belady_opt(trainBlockTrace, cache_size)\n",
    "\n",
    "print(trainHitrate)\n",
    "\n",
    "with open(train_data_file, 'wb+') as f:\n",
    "    pickle.dump([X, Y, Z, W, trainHitrate], f)"
   ]
  },
  {
   "cell_type": "markdown",
   "metadata": {},
   "source": [
    "## LFU"
   ]
  },
  {
   "cell_type": "code",
   "execution_count": 21,
   "metadata": {},
   "outputs": [],
   "source": [
    "def LFU(blocktrace, frame):\n",
    "    \n",
    "    cache = set()\n",
    "    cache_frequency = defaultdict(int)\n",
    "    frequency = defaultdict(int)\n",
    "    \n",
    "    hit, miss = 0, 0\n",
    "    \n",
    "    for block in tqdm(blocktrace, leave=False):\n",
    "        frequency[block] += 1\n",
    "        \n",
    "        if block in cache:\n",
    "            hit += 1\n",
    "            cache_frequency[block] += 1\n",
    "        \n",
    "        elif len(cache) < frame:\n",
    "            cache.add(block)\n",
    "            cache_frequency[block] += 1\n",
    "            miss += 1\n",
    "\n",
    "        else:\n",
    "            e, f = min(cache_frequency.items(), key=lambda a: a[1])\n",
    "            cache_frequency.pop(e)\n",
    "            cache.remove(e)\n",
    "            cache.add(block)\n",
    "            cache_frequency[block] = frequency[block]\n",
    "            miss += 1\n",
    "    \n",
    "    hitrate = hit / ( hit + miss )\n",
    "    return hitrate"
   ]
  },
  {
   "cell_type": "markdown",
   "metadata": {},
   "source": [
    "## LRU"
   ]
  },
  {
   "cell_type": "code",
   "execution_count": 22,
   "metadata": {},
   "outputs": [],
   "source": [
    "def LRU(blocktrace, frame):\n",
    "    \n",
    "    cache = set()\n",
    "    recency = deque()\n",
    "    hit, miss = 0, 0\n",
    "    \n",
    "    for block in tqdm(blocktrace, leave=False):\n",
    "        \n",
    "        if block in cache:\n",
    "            recency.remove(block)\n",
    "            recency.append(block)\n",
    "            hit += 1\n",
    "            \n",
    "        elif len(cache) < frame:\n",
    "            cache.add(block)\n",
    "            recency.append(block)\n",
    "            miss += 1\n",
    "            \n",
    "        else:\n",
    "            cache.remove(recency[0])\n",
    "            recency.popleft()\n",
    "            cache.add(block)\n",
    "            recency.append(block)\n",
    "            miss += 1\n",
    "    \n",
    "    hitrate = hit / (hit + miss)\n",
    "    return hitrate"
   ]
  },
  {
   "cell_type": "code",
   "execution_count": 25,
   "metadata": {},
   "outputs": [
    {
     "data": {
      "application/vnd.jupyter.widget-view+json": {
       "model_id": "",
       "version_major": 2,
       "version_minor": 0
      },
      "text/plain": [
       "HBox(children=(IntProgress(value=0, max=90000), HTML(value='')))"
      ]
     },
     "metadata": {},
     "output_type": "display_data"
    },
    {
     "name": "stdout",
     "output_type": "stream",
     "text": [
      "\r"
     ]
    },
    {
     "data": {
      "application/vnd.jupyter.widget-view+json": {
       "model_id": "",
       "version_major": 2,
       "version_minor": 0
      },
      "text/plain": [
       "HBox(children=(IntProgress(value=0, max=90000), HTML(value='')))"
      ]
     },
     "metadata": {},
     "output_type": "display_data"
    },
    {
     "name": "stdout",
     "output_type": "stream",
     "text": [
      "\r",
      "90000\n",
      "0.008077777777777777\n",
      "0.002688888888888889\n"
     ]
    }
   ],
   "source": [
    "lfu_hitrate = LFU(trainBlockTrace, cache_size)\n",
    "lru_hitrate = LRU(trainBlockTrace, cache_size)\n",
    "\n",
    "print(lfu_hitrate)\n",
    "print(lru_hitrate)"
   ]
  },
  {
   "cell_type": "code",
   "execution_count": null,
   "metadata": {},
   "outputs": [],
   "source": []
  }
 ],
 "metadata": {
  "kernelspec": {
   "display_name": "Python 3",
   "language": "python",
   "name": "python3"
  },
  "language_info": {
   "codemirror_mode": {
    "name": "ipython",
    "version": 3
   },
   "file_extension": ".py",
   "mimetype": "text/x-python",
   "name": "python",
   "nbconvert_exporter": "python",
   "pygments_lexer": "ipython3",
   "version": "3.7.1"
  }
 },
 "nbformat": 4,
 "nbformat_minor": 2
}
